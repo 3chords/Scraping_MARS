{
 "cells": [
  {
   "cell_type": "code",
   "execution_count": 39,
   "metadata": {},
   "outputs": [],
   "source": [
    "# dependencies\n",
    "from splinter import Browser \n",
    "from bs4 import BeautifulSoup\n",
    "\n",
    "# nowadays pages do not have static HTML, therefore we have dynamic HTML \n",
    "# this means javascript (or something) is pushing elements to your page which means you have to wait\n",
    "# for a little bit for the elements to load, splinter helps us deal with this"
   ]
  },
  {
   "cell_type": "code",
   "execution_count": 2,
   "metadata": {},
   "outputs": [
    {
     "name": "stdout",
     "output_type": "stream",
     "text": [
      "/c/Web Drivers/chromedriver\n"
     ]
    }
   ],
   "source": [
    "# load up the browser, this returns the path of the chromedriver\n",
    "# I didn't use this though, it didn't work, so I had to add the chromedriver.exe to the same folder as the jupyter notebook\n",
    "# and then point it to 'chromedriver.exe' in the executable path below\n",
    "!which chromedriver"
   ]
  },
  {
   "cell_type": "code",
   "execution_count": 4,
   "metadata": {},
   "outputs": [],
   "source": [
    "# point the path to the chromedriver, note... you get the path after running !which chromedriver above\n",
    "executable_path = {'executable_path': 'chromedriver.exe'}\n",
    "\n",
    "# set up the browser, specify chrome, the double asterisk are kwargs (key word arguments)\n",
    "browser = Browser('chrome', **executable_path, headless=False)\n",
    "# if this results in a blank screen, go to the chrome shortcut, compatability, select run as Vista Service Pack 2"
   ]
  },
  {
   "cell_type": "markdown",
   "metadata": {},
   "source": [
    "### NASA Mars News"
   ]
  },
  {
   "cell_type": "code",
   "execution_count": 20,
   "metadata": {},
   "outputs": [],
   "source": [
    "# Step 1\n",
    "# scrape the NASA Mars News site, collect the latest News Title and Paragraph text\n",
    "# assign the text to variables to reference later\n"
   ]
  },
  {
   "cell_type": "code",
   "execution_count": 56,
   "metadata": {},
   "outputs": [
    {
     "data": {
      "text/plain": [
       "True"
      ]
     },
     "execution_count": 56,
     "metadata": {},
     "output_type": "execute_result"
    }
   ],
   "source": [
    "# specify the address\n",
    "url = 'https://mars.nasa.gov/news/'\n",
    "\n",
    "# open the site in the browser\n",
    "browser.visit(url)\n",
    "\n",
    "# since we are looking in the ul.item list and li.slide, we want to go there but delay before scraping\n",
    "# you could also do a try/except logic to test for the presence of the element and retry or give up depending on result\n",
    "browser.is_element_present_by_css(\"ul.item_list li.slide\", wait_time=2)"
   ]
  },
  {
   "cell_type": "code",
   "execution_count": 57,
   "metadata": {},
   "outputs": [],
   "source": [
    "# use splinter to parse the html\n",
    "html = browser.html\n",
    "\n",
    "# put the html into beautifulsoup\n",
    "news_soup = BeautifulSoup(html, 'html.parser')"
   ]
  },
  {
   "cell_type": "code",
   "execution_count": 58,
   "metadata": {},
   "outputs": [],
   "source": [
    "# get the slide element using beautifulsoup\n",
    "slide_elem = news_soup.select_one('ul.item_list li.slide')"
   ]
  },
  {
   "cell_type": "code",
   "execution_count": 59,
   "metadata": {},
   "outputs": [
    {
     "data": {
      "text/plain": [
       "<li class=\"slide\"><div class=\"image_and_description_container\"><a href=\"/news/8458/a-rover-pit-stop-at-jpl/\" target=\"_self\"><div class=\"rollover_description\"><div class=\"rollover_description_inner\">Working like a finely honed machine, a team of engineers in this time-lapse video clip install test wheels on another finely honed machine: NASA's Mars 2020 rover.</div><div class=\"overlay_arrow\"><img alt=\"More\" src=\"/assets/overlay-arrow.png\"/></div></div><div class=\"list_image\"><img alt=\"A team of engineers at NASA's Jet Propulsion Laboratory in Pasadena, California, install the legs and wheels — otherwise known as the mobility suspension — on the Mars 2020 rover.\" src=\"/system/news_items/list_view_images/8458_rover-time-lapse-th.jpg\"/></div><div class=\"bottom_gradient\"><div><h3>A Rover Pit Stop at JPL</h3></div></div></a><div class=\"list_text\"><div class=\"list_date\">July 12, 2019</div><div class=\"content_title\"><a href=\"/news/8458/a-rover-pit-stop-at-jpl/\" target=\"_self\">A Rover Pit Stop at JPL</a></div><div class=\"article_teaser_body\">Working like a finely honed machine, a team of engineers in this time-lapse video clip install test wheels on another finely honed machine: NASA's Mars 2020 rover.</div></div></div></li>"
      ]
     },
     "execution_count": 59,
     "metadata": {},
     "output_type": "execute_result"
    }
   ],
   "source": [
    "# see what we've captured\n",
    "slide_elem"
   ]
  },
  {
   "cell_type": "code",
   "execution_count": 60,
   "metadata": {},
   "outputs": [
    {
     "data": {
      "text/plain": [
       "<div class=\"content_title\"><a href=\"/news/8458/a-rover-pit-stop-at-jpl/\" target=\"_self\">A Rover Pit Stop at JPL</a></div>"
      ]
     },
     "execution_count": 60,
     "metadata": {},
     "output_type": "execute_result"
    }
   ],
   "source": [
    "# parse through the element above\n",
    "slide_elem.find('div', class_=\"content_title\")"
   ]
  },
  {
   "cell_type": "code",
   "execution_count": 26,
   "metadata": {},
   "outputs": [
    {
     "data": {
      "text/plain": [
       "'A Rover Pit Stop at JPL'"
      ]
     },
     "execution_count": 26,
     "metadata": {},
     "output_type": "execute_result"
    }
   ],
   "source": [
    "# get the news title\n",
    "news_title = slide_elem.find('div', class_=\"content_title\").get_text()\n",
    "# print the title\n",
    "news_title"
   ]
  },
  {
   "cell_type": "code",
   "execution_count": 27,
   "metadata": {},
   "outputs": [
    {
     "data": {
      "text/plain": [
       "\"Working like a finely honed machine, a team of engineers in this time-lapse video clip install test wheels on another finely honed machine: NASA's Mars 2020 rover.\""
      ]
     },
     "execution_count": 27,
     "metadata": {},
     "output_type": "execute_result"
    }
   ],
   "source": [
    "# pull the paragraph\n",
    "news_p = slide_elem.find('div', class_=\"article_teaser_body\").text\n",
    "news_p"
   ]
  },
  {
   "cell_type": "markdown",
   "metadata": {},
   "source": [
    "# JPL Space Images Featured Image"
   ]
  },
  {
   "cell_type": "code",
   "execution_count": 28,
   "metadata": {},
   "outputs": [],
   "source": [
    "# visit the url for JPL featured space images\n",
    "# use splinter to navigate the site and find the image url for the current featured Mars image\n",
    "# assign the url string to a variable called featured_page_url\n",
    "# make sure to find the image url to the full size .jpg image\n",
    "# make sure to save a complete url string for this image\n"
   ]
  },
  {
   "cell_type": "code",
   "execution_count": 29,
   "metadata": {},
   "outputs": [],
   "source": [
    "# get the url, using the same session as above\n",
    "url = 'https://www.jpl.nasa.gov/spaceimages/?search=&category=Mars'\n",
    "# visit the page\n",
    "browser.visit(url)"
   ]
  },
  {
   "cell_type": "code",
   "execution_count": 6,
   "metadata": {},
   "outputs": [],
   "source": [
    "# click the first link\n",
    "full_image_elem = browser.find_by_id('full_image')\n",
    "full_image_elem.click()"
   ]
  },
  {
   "cell_type": "code",
   "execution_count": 31,
   "metadata": {},
   "outputs": [],
   "source": [
    "browser.is_element_present_by_text('more info     ', wait_time=2)\n",
    "# it turns out to get the photo we need to click the 'more info' button\n",
    "more_info_elem = browser.find_link_by_partial_text('more info')"
   ]
  },
  {
   "cell_type": "code",
   "execution_count": 7,
   "metadata": {},
   "outputs": [],
   "source": [
    "# click the 'more info' button\n",
    "more_info_elem.click()"
   ]
  },
  {
   "cell_type": "code",
   "execution_count": null,
   "metadata": {},
   "outputs": [],
   "source": [
    "html = browser.html\n",
    "img_soup = BeautifulSoup(html, 'html.parser')"
   ]
  },
  {
   "cell_type": "code",
   "execution_count": null,
   "metadata": {},
   "outputs": [],
   "source": [
    "# get the image by drilling down into the class figure.lede, then\n",
    "# an anchor (a) and then the image (img)\n",
    "# get(\"src\") is the source link of the photo\n",
    "\n",
    "img_url_rel_path = img_soup.select_one('figure.lede a img').get(\"src\")\n",
    "# show the path\n",
    "img_url_rel_path"
   ]
  },
  {
   "cell_type": "code",
   "execution_count": null,
   "metadata": {},
   "outputs": [],
   "source": [
    "# make an img url by appending the beginning to it\n",
    "# another way to do this would be to open the image in a new window\n",
    "# and get the entire address that way without feeding in the relative path\n",
    "img_url = f'https://www.jpl.nasa.gov{img_url_rel_path}'\n",
    "img_url"
   ]
  },
  {
   "cell_type": "markdown",
   "metadata": {},
   "source": [
    "## Visit the Mars Twitter page, scrape the latest weather tweet"
   ]
  },
  {
   "cell_type": "code",
   "execution_count": null,
   "metadata": {},
   "outputs": [],
   "source": [
    "# visit the Mars twitter account and scrape the latest Mars weather tweet from the page\n",
    "# save the tweet text for the weather report as a variable called mars_weather\n",
    "url = 'https://twitter.com/marswxreport?lang=en'\n",
    "# visit the page\n",
    "browser.visit(url)"
   ]
  },
  {
   "cell_type": "code",
   "execution_count": null,
   "metadata": {},
   "outputs": [],
   "source": [
    "# get HTML from page\n",
    "html = browser.html\n",
    "tweet_soup = BeautifulSoup(html, 'html.parser')\n",
    "\n",
    "# verify results\n",
    "#tweet_soup"
   ]
  },
  {
   "cell_type": "code",
   "execution_count": null,
   "metadata": {},
   "outputs": [],
   "source": [
    "# parse through the results\n",
    "tweet_soup.find(class_=\"TweetTextSize\")"
   ]
  },
  {
   "cell_type": "code",
   "execution_count": null,
   "metadata": {},
   "outputs": [],
   "source": [
    "# get the tweet's weather report, store it to a variable\n",
    "mars_weather = tweet_soup.find(class_=\"TweetTextSize\").get_text()\n",
    "# print the tweet to confirm\n",
    "mars_weather"
   ]
  },
  {
   "cell_type": "markdown",
   "metadata": {},
   "source": [
    "## Visit the Mars Facts webpage, use Pandas to scrape the planet stats"
   ]
  },
  {
   "cell_type": "code",
   "execution_count": null,
   "metadata": {},
   "outputs": [],
   "source": [
    "# visit the Mars Facts webpage and use Pandas to scrape the table containing facts about the planet (mass, diameter, etc.)\n",
    "# use pandas to convert the data to a HTML table string\n",
    "\n",
    "# get dependency, normally this would be at the top\n",
    "import pandas as pd\n",
    "\n",
    "# get the url\n",
    "url = 'https://space-facts.com/mars/'\n",
    "\n",
    "# use the read_html function in pandas to scrape tabular data\n",
    "mars_tables = pd.read_html(url)\n",
    "\n",
    "#see what we get\n",
    "mars_tables"
   ]
  },
  {
   "cell_type": "code",
   "execution_count": null,
   "metadata": {},
   "outputs": [],
   "source": [
    "# check to see what kind of pandas object it is\n",
    "type(mars_tables)"
   ]
  },
  {
   "cell_type": "code",
   "execution_count": null,
   "metadata": {},
   "outputs": [],
   "source": [
    "# Mars has data in the first and second table\n",
    "\n",
    "# pull in the first table in the list (item 0)\n",
    "mars_tbl1 = mars_tables[0]\n",
    "\n",
    "# pull in the columns\n",
    "mars_tbl1.columns=['Comparision', 'Mars', 'Earth']\n",
    "\n",
    "# see what it looks like\n",
    "mars_tbl1"
   ]
  },
  {
   "cell_type": "code",
   "execution_count": null,
   "metadata": {},
   "outputs": [],
   "source": [
    "# generate an HTML table from the dataframe\n",
    "\n",
    "mars_tbl1_to_html_tbl = mars_tbl1.to_html()\n",
    "mars_tbl1_to_html_tbl"
   ]
  },
  {
   "cell_type": "code",
   "execution_count": null,
   "metadata": {},
   "outputs": [],
   "source": [
    "# strip out unwanted newlines from the code to clean up the table\n",
    "\n",
    "final_mars_tbl1 = mars_tbl1_to_html_tbl.replace('\\n', '')\n",
    "final_mars_tbl1"
   ]
  },
  {
   "cell_type": "code",
   "execution_count": null,
   "metadata": {},
   "outputs": [],
   "source": [
    "# save first table to an HTML file (optional)\n",
    "\n",
    "# final_mars_tbl1.to_html('mars_table1.html')"
   ]
  },
  {
   "cell_type": "code",
   "execution_count": null,
   "metadata": {},
   "outputs": [],
   "source": [
    "# Mars also has data in a second table\n",
    "\n",
    "# pull in the second table in the list (item 1)\n",
    "mars_tbl2 = mars_tables[1]\n",
    "\n",
    "# pull in the columns\n",
    "mars_tbl2.columns=['0', '1']\n",
    "mars_tbl2"
   ]
  },
  {
   "cell_type": "code",
   "execution_count": null,
   "metadata": {},
   "outputs": [],
   "source": [
    "# generate an HTML table from the dataframe\n",
    "\n",
    "mars_tbl2_to_html_tbl = mars_tbl2.to_html()\n",
    "mars_tbl2_to_html_tbl"
   ]
  },
  {
   "cell_type": "code",
   "execution_count": null,
   "metadata": {},
   "outputs": [],
   "source": [
    "# strip out unwanted newlines from the code to clean up the table\n",
    "\n",
    "final_mars_tbl2 = mars_tbl2_to_html_tbl.replace('\\n', '')\n",
    "final_mars_tbl2"
   ]
  },
  {
   "cell_type": "code",
   "execution_count": null,
   "metadata": {},
   "outputs": [],
   "source": [
    "# save second table to an HTML file (optional)\n",
    "\n",
    "# final_mars_tbl2.to_html('mars_table2.html')"
   ]
  },
  {
   "cell_type": "markdown",
   "metadata": {},
   "source": [
    "## Mars Hemispheres, visit the USGS astrogeology site, get high res images for the hemispheres"
   ]
  },
  {
   "cell_type": "code",
   "execution_count": null,
   "metadata": {},
   "outputs": [],
   "source": [
    "# visit the USGS astrogeology site to obtain high res images for each of Mars' hemispheres\n",
    "# save both the image & url for the full res hemisphere image and the hemisphere title containing the hemisphere name\n",
    "# use a python dictionary to store the data using the keys img_url and title\n",
    "\n",
    "# append the dictionary with the image url string and the hemisphere title to a list, the list will contain one\n",
    "# dictionary for each hemisphere\n"
   ]
  },
  {
   "cell_type": "code",
   "execution_count": 40,
   "metadata": {},
   "outputs": [],
   "source": [
    "# get the url\n",
    "url = 'https://astrogeology.usgs.gov/search/results?q=hemisphere+enhanced&k1=target&v1=Mars'\n",
    "\n",
    "# visit the page\n",
    "browser.visit(url)"
   ]
  },
  {
   "cell_type": "code",
   "execution_count": 41,
   "metadata": {},
   "outputs": [],
   "source": [
    "# click on the links\n",
    "html = browser.html\n",
    "hemi_soup = BeautifulSoup(html, 'html.parser')\n",
    "\n",
    "# view the html\n",
    "#hemi_soup"
   ]
  },
  {
   "cell_type": "code",
   "execution_count": 42,
   "metadata": {},
   "outputs": [
    {
     "data": {
      "text/plain": [
       "[<a class=\"itemLink product-item\" href=\"/search/map/Mars/Viking/cerberus_enhanced\"><img alt=\"Cerberus Hemisphere Enhanced thumbnail\" class=\"thumb\" src=\"/cache/images/dfaf3849e74bf973b59eb50dab52b583_cerberus_enhanced.tif_thumb.png\"/></a>,\n",
       " <a class=\"itemLink product-item\" href=\"/search/map/Mars/Viking/cerberus_enhanced\"><h3>Cerberus Hemisphere Enhanced</h3></a>,\n",
       " <a class=\"itemLink product-item\" href=\"/search/map/Mars/Viking/schiaparelli_enhanced\"><img alt=\"Schiaparelli Hemisphere Enhanced thumbnail\" class=\"thumb\" src=\"/cache/images/7677c0a006b83871b5a2f66985ab5857_schiaparelli_enhanced.tif_thumb.png\"/></a>,\n",
       " <a class=\"itemLink product-item\" href=\"/search/map/Mars/Viking/schiaparelli_enhanced\"><h3>Schiaparelli Hemisphere Enhanced</h3></a>,\n",
       " <a class=\"itemLink product-item\" href=\"/search/map/Mars/Viking/syrtis_major_enhanced\"><img alt=\"Syrtis Major Hemisphere Enhanced thumbnail\" class=\"thumb\" src=\"/cache/images/aae41197e40d6d4f3ea557f8cfe51d15_syrtis_major_enhanced.tif_thumb.png\"/></a>,\n",
       " <a class=\"itemLink product-item\" href=\"/search/map/Mars/Viking/syrtis_major_enhanced\"><h3>Syrtis Major Hemisphere Enhanced</h3></a>,\n",
       " <a class=\"itemLink product-item\" href=\"/search/map/Mars/Viking/valles_marineris_enhanced\"><img alt=\"Valles Marineris Hemisphere Enhanced thumbnail\" class=\"thumb\" src=\"/cache/images/04085d99ec3713883a9a57f42be9c725_valles_marineris_enhanced.tif_thumb.png\"/></a>,\n",
       " <a class=\"itemLink product-item\" href=\"/search/map/Mars/Viking/valles_marineris_enhanced\"><h3>Valles Marineris Hemisphere Enhanced</h3></a>]"
      ]
     },
     "execution_count": 42,
     "metadata": {},
     "output_type": "execute_result"
    }
   ],
   "source": [
    "# find all the links\n",
    "hemi_links = hemi_soup.find_all(\"a\", class_=\"itemLink\")\n",
    "hemi_links"
   ]
  },
  {
   "cell_type": "code",
   "execution_count": 67,
   "metadata": {},
   "outputs": [],
   "source": [
    "# create empty dictionary to store the image url and title\n",
    "hemisphere_image_urls = {}\n",
    "# create empty list \n",
    "hi_list = []"
   ]
  },
  {
   "cell_type": "code",
   "execution_count": 68,
   "metadata": {},
   "outputs": [],
   "source": [
    "# get name of hemisphere #1\n",
    "h3_1 = browser.find_by_tag('h3')[0]\n",
    "h3_1 = h3_1.value\n",
    "\n",
    "# click the link #1\n",
    "browser.click_link_by_partial_text('cerberus_enhanced')"
   ]
  },
  {
   "cell_type": "code",
   "execution_count": 69,
   "metadata": {},
   "outputs": [
    {
     "data": {
      "text/plain": [
       "'https://astrogeology.usgs.gov/search/map/Mars/Viking/cerberus_enhanced'"
      ]
     },
     "execution_count": 69,
     "metadata": {},
     "output_type": "execute_result"
    }
   ],
   "source": [
    "# click the 'original' link to download high resolution image #1\n",
    "browser.click_link_by_partial_text('cerberus_enhanced.tif')\n",
    "\n",
    "# grab the url\n",
    "image_1_url = browser.url\n",
    "image_1_url"
   ]
  },
  {
   "cell_type": "code",
   "execution_count": 70,
   "metadata": {},
   "outputs": [
    {
     "data": {
      "text/plain": [
       "[dict_items([('title', 'Cerberus Hemisphere Enhanced'), ('img_url', 'https://astrogeology.usgs.gov/search/map/Mars/Viking/cerberus_enhanced')])]"
      ]
     },
     "execution_count": 70,
     "metadata": {},
     "output_type": "execute_result"
    }
   ],
   "source": [
    "# append title and image path to dictionary\n",
    "hemisphere_image_urls = {\"title\": h3_1, \n",
    "                         \"img_url\": image_1_url}\n",
    "get_hemi_item = hemisphere_image_urls.items()\n",
    "# add to list\n",
    "hi_list.append(get_hemi_item)\n",
    "hi_list"
   ]
  },
  {
   "cell_type": "code",
   "execution_count": 71,
   "metadata": {},
   "outputs": [],
   "source": [
    "# navigate back to the previous page\n",
    "browser.back()\n",
    "\n",
    "# get name of hemisphere #2\n",
    "h3_2 = browser.find_by_tag('h3')[1]\n",
    "h3_2 = h3_2.value\n",
    "\n",
    "# click the link #2\n",
    "browser.click_link_by_partial_text('schiaparelli_enhanced')"
   ]
  },
  {
   "cell_type": "code",
   "execution_count": 72,
   "metadata": {},
   "outputs": [
    {
     "data": {
      "text/plain": [
       "'https://astrogeology.usgs.gov/search/map/Mars/Viking/schiaparelli_enhanced'"
      ]
     },
     "execution_count": 72,
     "metadata": {},
     "output_type": "execute_result"
    }
   ],
   "source": [
    "# click the 'original' link to download the high resolution image #2\n",
    "browser.click_link_by_partial_text('schiaparelli_enhanced.tif')\n",
    "\n",
    "# grab the url\n",
    "image_2_url = browser.url\n",
    "image_2_url"
   ]
  },
  {
   "cell_type": "code",
   "execution_count": 73,
   "metadata": {},
   "outputs": [
    {
     "data": {
      "text/plain": [
       "[dict_items([('title', 'Cerberus Hemisphere Enhanced'), ('img_url', 'https://astrogeology.usgs.gov/search/map/Mars/Viking/cerberus_enhanced')]),\n",
       " dict_items([('title', 'Schiaparelli Hemisphere Enhanced'), ('img_url', 'https://astrogeology.usgs.gov/search/map/Mars/Viking/schiaparelli_enhanced')])]"
      ]
     },
     "execution_count": 73,
     "metadata": {},
     "output_type": "execute_result"
    }
   ],
   "source": [
    "# append title and image path to dictionary\n",
    "hemisphere_image_urls = {\"title\": h3_2, \n",
    "                         \"img_url\": image_2_url\n",
    "                        }\n",
    "get_hemi_item = hemisphere_image_urls.items()\n",
    "# add to list\n",
    "hi_list.append(get_hemi_item)\n",
    "hi_list"
   ]
  },
  {
   "cell_type": "code",
   "execution_count": 74,
   "metadata": {},
   "outputs": [],
   "source": [
    "# navigate back to the previous page\n",
    "browser.back()\n",
    "# click the link #3\n",
    "\n",
    "# get name of hemisphere #3\n",
    "h3_3 = browser.find_by_tag('h3')[2]\n",
    "h3_3 = h3_3.value\n",
    "\n",
    "browser.click_link_by_partial_text('syrtis_major_enhanced')"
   ]
  },
  {
   "cell_type": "code",
   "execution_count": 75,
   "metadata": {},
   "outputs": [
    {
     "data": {
      "text/plain": [
       "'https://astrogeology.usgs.gov/search/map/Mars/Viking/syrtis_major_enhanced'"
      ]
     },
     "execution_count": 75,
     "metadata": {},
     "output_type": "execute_result"
    }
   ],
   "source": [
    "# click the 'original' link to download the high resolution image #3\n",
    "browser.click_link_by_partial_text('syrtis_major_enhanced.tif')\n",
    "\n",
    "# grab the url\n",
    "image_3_url = browser.url\n",
    "image_3_url"
   ]
  },
  {
   "cell_type": "code",
   "execution_count": 76,
   "metadata": {},
   "outputs": [
    {
     "data": {
      "text/plain": [
       "[dict_items([('title', 'Cerberus Hemisphere Enhanced'), ('img_url', 'https://astrogeology.usgs.gov/search/map/Mars/Viking/cerberus_enhanced')]),\n",
       " dict_items([('title', 'Schiaparelli Hemisphere Enhanced'), ('img_url', 'https://astrogeology.usgs.gov/search/map/Mars/Viking/schiaparelli_enhanced')]),\n",
       " dict_items([('title', 'Syrtis Major Hemisphere Enhanced'), ('img_url', 'https://astrogeology.usgs.gov/search/map/Mars/Viking/syrtis_major_enhanced')])]"
      ]
     },
     "execution_count": 76,
     "metadata": {},
     "output_type": "execute_result"
    }
   ],
   "source": [
    "# append title and image path to dictionary\n",
    "hemisphere_image_urls = {\"title\": h3_3, \n",
    "                         \"img_url\": image_3_url\n",
    "                        }\n",
    "get_hemi_item = hemisphere_image_urls.items()\n",
    "# add to list\n",
    "hi_list.append(get_hemi_item)\n",
    "hi_list"
   ]
  },
  {
   "cell_type": "code",
   "execution_count": 77,
   "metadata": {},
   "outputs": [],
   "source": [
    "# navigate back to the previous page\n",
    "browser.back()\n",
    "\n",
    "# get name of hemisphere #4\n",
    "h3_4 = browser.find_by_tag('h3')[3]\n",
    "h3_4 = h3_4.value\n",
    "\n",
    "# click the link #4\n",
    "browser.click_link_by_partial_text('valles_marineris_enhanced')"
   ]
  },
  {
   "cell_type": "code",
   "execution_count": 79,
   "metadata": {},
   "outputs": [
    {
     "data": {
      "text/plain": [
       "'https://astrogeology.usgs.gov/search/map/Mars/Viking/valles_marineris_enhanced'"
      ]
     },
     "execution_count": 79,
     "metadata": {},
     "output_type": "execute_result"
    }
   ],
   "source": [
    "# click the 'original' link to download the high resolution image #4\n",
    "browser.click_link_by_partial_text('valles_marineris_enhanced.tif')\n",
    "\n",
    "# grab the url\n",
    "image_4_url = browser.url\n",
    "image_4_url"
   ]
  },
  {
   "cell_type": "code",
   "execution_count": 80,
   "metadata": {},
   "outputs": [
    {
     "data": {
      "text/plain": [
       "[dict_items([('title', 'Cerberus Hemisphere Enhanced'), ('img_url', 'https://astrogeology.usgs.gov/search/map/Mars/Viking/cerberus_enhanced')]),\n",
       " dict_items([('title', 'Schiaparelli Hemisphere Enhanced'), ('img_url', 'https://astrogeology.usgs.gov/search/map/Mars/Viking/schiaparelli_enhanced')]),\n",
       " dict_items([('title', 'Syrtis Major Hemisphere Enhanced'), ('img_url', 'https://astrogeology.usgs.gov/search/map/Mars/Viking/syrtis_major_enhanced')]),\n",
       " dict_items([('title', 'Valles Marineris Hemisphere Enhanced'), ('img_url', 'https://astrogeology.usgs.gov/search/map/Mars/Viking/valles_marineris_enhanced')])]"
      ]
     },
     "execution_count": 80,
     "metadata": {},
     "output_type": "execute_result"
    }
   ],
   "source": [
    "# append title and image path to dictionary\n",
    "hemisphere_image_urls = {\"title\": h3_4, \n",
    "                         \"img_url\": image_4_url\n",
    "                        }\n",
    "get_hemi_item = hemisphere_image_urls.items()\n",
    "# add to list\n",
    "hi_list.append(get_hemi_item)\n",
    "hi_list"
   ]
  },
  {
   "cell_type": "code",
   "execution_count": null,
   "metadata": {},
   "outputs": [],
   "source": [
    "# END OF JUPYTER section\n",
    "\n",
    "# Step 2\n",
    "# convert the jupyter notebook into a python script called scrape_mars.py with a function called scrape\n",
    "# the function will execute all of the scraping code from above and return one python dictionary containing all the\n",
    "# scraped data\n"
   ]
  },
  {
   "cell_type": "code",
   "execution_count": null,
   "metadata": {},
   "outputs": [],
   "source": []
  }
 ],
 "metadata": {
  "kernelspec": {
   "display_name": "Python 3",
   "language": "python",
   "name": "python3"
  },
  "language_info": {
   "codemirror_mode": {
    "name": "ipython",
    "version": 3
   },
   "file_extension": ".py",
   "mimetype": "text/x-python",
   "name": "python",
   "nbconvert_exporter": "python",
   "pygments_lexer": "ipython3",
   "version": "3.7.3"
  }
 },
 "nbformat": 4,
 "nbformat_minor": 2
}
